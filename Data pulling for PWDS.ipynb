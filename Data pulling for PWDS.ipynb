{
 "cells": [
  {
   "cell_type": "code",
   "execution_count": 27,
   "id": "d29fac9d-173d-41e0-92cd-00c14770a56d",
   "metadata": {},
   "outputs": [],
   "source": [
    "import pandas as pd\n",
    "import time \n",
    "import requests\n",
    "import datetime \n",
    "from bs4 import BeautifulSoup\n",
    "import smtplib\n",
    "import re\n",
    "import warnings\n",
    "warnings.filterwarnings(\"ignore\")"
   ]
  },
  {
   "cell_type": "code",
   "execution_count": 34,
   "id": "63145944-2dfe-49b3-8890-a8983c9318f2",
   "metadata": {},
   "outputs": [
    {
     "name": "stdout",
     "output_type": "stream",
     "text": [
      "Data saved to special_needs_schools_data.csv\n"
     ]
    }
   ],
   "source": [
    "urls=[\n",
    "    \"https://www.kenyabizlist.com/category/special-needs-schools\",\n",
    "]\n",
    "pattern=r'<a href=\"(?P<website>https://www.kenyabizlist.com/business/\\d+[-\\w]+)\">.*?<b>(?P<name>.*?)</b></a>.*?P\\.O\\. Box (?P<location>[\\d\\s\\w,]+)'\n",
    "headers = {\n",
    "    'User-Agent': 'Mozilla/5.0 (Windows NT 10.0; Win64; x64) AppleWebKit/537.36 (KHTML, like Gecko) Chrome/91.0.4472.124 Safari/537.36'\n",
    "}\n",
    "data=[]\n",
    "for URL in urls:\n",
    "    page=requests.get(URL)\n",
    "    soup=BeautifulSoup(page.text,\"html\")\n",
    "    soup_find = soup.find_all(class_=\"c-detail\")\n",
    "    for element in soup_find:\n",
    "        \n",
    "        element_str = str(element)\n",
    "        \n",
    "        matches = re.finditer(pattern, element_str, re.DOTALL)\n",
    "        \n",
    "        \n",
    "        # Extract and print each match\n",
    "        for match in matches:\n",
    "            website = match.group(\"website\")\n",
    "            name = match.group(\"name\").strip()\n",
    "            location = match.group(\"location\").strip()\n",
    "            \n",
    "            # print(f\"Website: {website}\")\n",
    "            # print(f\"Name: {name}\")\n",
    "            # print(f\"Location (P.O. Box): {location}\")\n",
    "            \n",
    "            business_page = requests.get(website, headers=headers)\n",
    "            business_soup = BeautifulSoup(business_page.text, \"html.parser\")\n",
    "            \n",
    "           \n",
    "            try:\n",
    "                phone = business_soup.find(text=re.compile(r'Phone')).find_next().get_text(strip=True)\n",
    "            except AttributeError:\n",
    "                phone = \"N/A\"\n",
    "            \n",
    "            try:\n",
    "                email = business_soup.find(text=re.compile(r'Email')).find_next().get_text(strip=True)\n",
    "            except AttributeError:\n",
    "                email = \"N/A\"\n",
    "            \n",
    "            # Add the scraped data to the list\n",
    "            data.append({\n",
    "                \"Website\": website,\n",
    "                \"Name\": name,\n",
    "                \"Location (P.O. Box)\": location,\n",
    "                \"Phone\": phone,\n",
    "                \"Email\": email\n",
    "            })\n",
    "\n",
    "df = pd.DataFrame(data)\n",
    "df.to_csv(\"special_needs_schools_data12.csv\", index=False)\n",
    "\n",
    "print(\"Data saved to special_needs_schools_data.csv\")"
   ]
  },
  {
   "cell_type": "code",
   "execution_count": 35,
   "id": "c165bdb8-5628-446d-a464-137e0a2adaa7",
   "metadata": {},
   "outputs": [
    {
     "name": "stdout",
     "output_type": "stream",
     "text": [
      "Scraping data for: https://www.kenyabizlist.com/business/2238-siuna-community-childrens-home\n",
      "Address:Opposite Kitale AirportP.O. Box 2985, Kitale 30200City/Town:KitaleTelephone Number:0722296151Telephone Number 2:0722850117Email Address:Website:Category:Special Needs Schools\n",
      "Scraping data for: https://www.kenyabizlist.com/business/2236-homa-bay-childrens-home-academy\n",
      "Address:Next to SDA ChurchP.O. Box 77, Homa Bay  40300City/Town:Homa BayTelephone Number:05922312Email Address:Website:Category:Special Needs Schools\n",
      "Scraping data for: https://www.kenyabizlist.com/business/2232-riruta-shade-for-the-orphaned-children\n",
      "Address:Riruta Setellite Shopping CentreOpp Police StationP.O. Box 34602, Nairobi 00100City/Town:RirutaTelephone Number:0718119481Telephone Number 2:0721693409Email Address:Website:http://www.rirutashadeorphans.orgCategory:Special Needs Schools\n",
      "Scraping data for: https://www.kenyabizlist.com/business/2231-mombasa-secondary-school-for-the-physically-handicapped\n",
      "Address:Mombasa-mtwapa RoadP.O. Box 86231, Mombasa 80100City/Town:MombasaTelephone Number:0722 303196Telephone Number 2:041790918Email Address:mssph014@gmail.comWebsite:Category:Special Needs Schools\n",
      "Scraping data for: https://www.kenyabizlist.com/business/2227-chekombero-special-school-for-the-deaf\n",
      "Address:Chekombero Special School for the DeafChamakanga,VihigaP.O. Box 84, Vihiga  50310City/Town:VihigaTelephone Number:-Email Address:Website:Category:Special Needs Schools\n",
      "Scraping data for: https://www.kenyabizlist.com/business/2225-lisa-hola-school-for-the-deaf\n",
      "Address:P.O. Box 78, Hola 70101City/Town:HolaTelephone Number:0462013Email Address:Website:Category:Special Needs Schools\n",
      "Scraping data for: https://www.kenyabizlist.com/business/2224-tumu-tumu-school-for-the-deaf\n",
      "Address:Tumu Tumu area, KaratinaP.O. Box 401, Karatina 10101City/Town:KaratinaTelephone Number:0725701660Email Address:tumutumuschdeaf@yahoo.comWebsite:Category:Special Needs Schools\n",
      "Scraping data for: https://www.kenyabizlist.com/business/2223-kuja-special-secondary-school-for-the-deaf\n",
      "Address:Rongo TownP.O. Box 221, Rongo  40404City/Town:MigoriTelephone Number:0726558593Email Address:Website:kuja.deaf@yahoo.comCategory:Special Needs Schools\n",
      "Scraping data for: https://www.kenyabizlist.com/business/2219-model-center-for-deaf-education--training\n",
      "Address:Kitengela, OloloitikoshiP.O. Box 5251, Nairobi 00506City/Town:KitengelaTelephone Number:0722948565Email Address:Website:Category:Special Needs Schools\n",
      "Scraping data for: https://www.kenyabizlist.com/business/2218-iten-school-for-the-deaf\n",
      "Address:P.O. Box 336, Iten 30700City/Town:ItenTelephone Number:0532207Email Address:Website:Category:Special Needs Schools\n",
      "Scraping data for: https://www.kenyabizlist.com/business/2216-karen-technical-training-institute-for-the-deaf\n",
      "Address:Karen RoadP.O. Box 24785, Nairobi 00502City/Town:KarenTelephone Number:0722677859Email Address:kttid2007@yahoo.comWebsite:http://kttideaf.ac.keCategory:Special Needs SchoolsWorking hours:OpenWednesday:8:00AM-5:00PMSee All\n",
      "Scraping data for: https://www.kenyabizlist.com/business/2214-dagoretti-special-school\n",
      "Address:Dagoretti CentreP.O. Box 1965, Kikuyu 00902City/Town:DagorettiTelephone Number:0722302628Telephone Number 2:0722 299127Email Address:Website:Category:Special Needs SchoolsWorking hours:OpenWednesday:8:00AM-5:00PMSee All\n",
      "Scraping data for: https://www.kenyabizlist.com/business/2213-kenya-society-for-deaf-children\n",
      "Address:Bible House, 2nd Floor, Langata RoadP.O. Box 42306, Nairobi 00100City/Town:NairobiTelephone Number:0206007752Email Address:ienfo@deafchildrensociety-kenya.orgWebsite:http://deafchildrensociety-kenya.orgCategory:Special Needs Schools\n",
      "Scraping data for: https://www.kenyabizlist.com/business/2212-st-francis-school-for-the-blind\n",
      "Address:KapenguriaP.O. Box 163, Kapenguria 30600City/Town:KapenguriaTelephone Number:0542038,2049Email Address:st.francis@yahoo.comWebsite:Category:Special Needs Schools\n",
      "Scraping data for: https://www.kenyabizlist.com/business/2208-st-lucy-school-for-the-blind\n",
      "Address:P.O. Box 22, Igoji 60402City/Town:IgojiTelephone Number:0720447070Telephone Number 2:06422538Email Address:highschoolucy@gmail.comWebsite:Category:Special Needs Schools\n",
      "Scraping data for: https://www.kenyabizlist.com/business/2204-st-oda-school-for-the-blind\n",
      "Address:Aluor areaP.O. Box 26, Maseno 40105City/Town:MasenoTelephone Number:0735 950542Telephone Number 2:0574l05710Email Address:Website:http://Www.stodaforthevi.ac.keCategory:Special Needs Schools\n",
      "Scraping data for: https://www.kenyabizlist.com/business/2199-kibos-school-for-the-blind\n",
      "Address:Kondele-Manyatta RoadP.O. Box 447, Kisumu 40100City/Town:KisumuTelephone Number:05743135Email Address:Website:Category:Special Needs Schools\n",
      "Scraping data for: https://www.kenyabizlist.com/business/2184-the-salvation-army-thika-primary\n",
      "Address:The Salvation Army Thika PrimaryThika TownP.O. Box 80, Thika 01000City/Town:ThikaTelephone Number:06721691Email Address:Website:Category:Special Needs Schools\n",
      "Scraping data for: https://www.kenyabizlist.com/business/2172-kenya-institute-for-the-blind\n",
      "Address:Nairobi West, Mai Mahiu RoadP.O. Box 31082, Nairobi 00600City/Town:Nairobi WestTelephone Number:0717 504908Telephone Number 2:020 600 5712Email Address:kblind@keib.or.keWebsite:http://keib.or.keCategory:Special Needs SchoolsWorking hours:OpenWednesday:8:00AM-5:00PMSee All\n",
      "Scraping data for: https://www.kenyabizlist.com/business/2164-sight-savers-international\n",
      "Address:East Central & Southern Africa (ECSA)Studio House, Ground FloorArwings Kodhek RoadP.O. Box 10417, Nairobi 00100City/Town:NairobiTelephone Number:0722209786Telephone Number 2:0735998877Email Address:kco@sightsavers.or.keWebsite:https://www.sightsavers.orgCategory:Special Needs Schools\n"
     ]
    }
   ],
   "source": [
    "for web in df[\"Website\"]:\n",
    "    print(f\"Scraping data for: {web}\")  # Print to confirm which website is being processed\n",
    "    \n",
    "    page = requests.get(web)\n",
    "    \n",
    "    \n",
    "    if page.status_code == 200:\n",
    "        # Parse the page content using BeautifulSoup\n",
    "        soup = BeautifulSoup(page.text, \"html.parser\")\n",
    "        \n",
    "        # Find the specific data you're looking for on the page\n",
    "        # Example: Scraping the 'c-info' class (assuming it holds contact details)\n",
    "        soup_find = soup.find_all(class_=\"c-info\")\n",
    "        \n",
    "        # Check if data exists in 'soup_find' and print or store the results\n",
    "        for element in soup_find:\n",
    "            print(element.get_text(strip=True))  # Extract and print the text for each 'c-info' element\n",
    "    else:\n",
    "        print(f\"Failed to retrieve data for: {web} (Status code: {page.status_code})\")"
   ]
  },
  {
   "cell_type": "code",
   "execution_count": 46,
   "id": "f31387e5-fa3d-424d-ac44-900add994534",
   "metadata": {},
   "outputs": [
    {
     "name": "stdout",
     "output_type": "stream",
     "text": [
      "Scraping data for: https://www.kenyabizlist.com/business/2238-siuna-community-childrens-home\n",
      "Scraping data for: https://www.kenyabizlist.com/business/2236-homa-bay-childrens-home-academy\n",
      "Scraping data for: https://www.kenyabizlist.com/business/2232-riruta-shade-for-the-orphaned-children\n",
      "Scraping data for: https://www.kenyabizlist.com/business/2231-mombasa-secondary-school-for-the-physically-handicapped\n",
      "Scraping data for: https://www.kenyabizlist.com/business/2227-chekombero-special-school-for-the-deaf\n",
      "Scraping data for: https://www.kenyabizlist.com/business/2225-lisa-hola-school-for-the-deaf\n",
      "Scraping data for: https://www.kenyabizlist.com/business/2224-tumu-tumu-school-for-the-deaf\n",
      "Scraping data for: https://www.kenyabizlist.com/business/2223-kuja-special-secondary-school-for-the-deaf\n",
      "Scraping data for: https://www.kenyabizlist.com/business/2219-model-center-for-deaf-education--training\n",
      "Scraping data for: https://www.kenyabizlist.com/business/2218-iten-school-for-the-deaf\n",
      "Scraping data for: https://www.kenyabizlist.com/business/2216-karen-technical-training-institute-for-the-deaf\n",
      "Scraping data for: https://www.kenyabizlist.com/business/2214-dagoretti-special-school\n",
      "Scraping data for: https://www.kenyabizlist.com/business/2213-kenya-society-for-deaf-children\n",
      "Scraping data for: https://www.kenyabizlist.com/business/2212-st-francis-school-for-the-blind\n",
      "Scraping data for: https://www.kenyabizlist.com/business/2208-st-lucy-school-for-the-blind\n",
      "Scraping data for: https://www.kenyabizlist.com/business/2204-st-oda-school-for-the-blind\n",
      "Scraping data for: https://www.kenyabizlist.com/business/2199-kibos-school-for-the-blind\n",
      "Scraping data for: https://www.kenyabizlist.com/business/2184-the-salvation-army-thika-primary\n",
      "Scraping data for: https://www.kenyabizlist.com/business/2172-kenya-institute-for-the-blind\n",
      "Scraping data for: https://www.kenyabizlist.com/business/2164-sight-savers-international\n",
      "Data scraping and saving to CSV completed successfully!\n"
     ]
    }
   ],
   "source": [
    "import requests\n",
    "from bs4 import BeautifulSoup\n",
    "import pandas as pd\n",
    "import re\n",
    "\n",
    "# Read the CSV file containing the websites\n",
    "df = pd.read_csv(\"special_needs_schools_data12.csv\")\n",
    "\n",
    "# Lists to hold the extracted data\n",
    "addresses = []\n",
    "towns = []\n",
    "telephone_numbers_1 = []\n",
    "telephone_numbers_2 = []\n",
    "emails = []\n",
    "websites = []\n",
    "products = []  # New list for products\n",
    "\n",
    "# Define a pattern to extract the required information\n",
    "address_pattern = r'Address:(.*?)(?=City/Town:|Telephone Number:|$)'\n",
    "town_pattern = r'City/Town:(.*?)(?=Telephone Number:|$)'\n",
    "telephone_1_pattern = r'Telephone Number:(.*?)(?=Telephone Number 2:|Email Address:|$)'\n",
    "telephone_2_pattern = r'Telephone Number 2:(.*?)(?=Email Address:|Website:|$)'\n",
    "email_pattern = r'Email Address:(.*?)(?=Website:|Category:|$)'\n",
    "website_pattern = r'Website:(.*?)(?=Category:|$)'\n",
    "\n",
    "# Loop over each website in the 'Website' column\n",
    "for web in df[\"Website\"]:\n",
    "    print(f\"Scraping data for: {web}\")  # Print to confirm which website is being processed\n",
    "    \n",
    "    page = requests.get(web)\n",
    "    \n",
    "    if page.status_code == 200:\n",
    "        # Parse the page content using BeautifulSoup\n",
    "        soup = BeautifulSoup(page.text, \"html.parser\")\n",
    "        \n",
    "        # Find the specific data you're looking for on the page\n",
    "        soup_find = soup.find_all(class_=\"c-info\")\n",
    "        \n",
    "        # Combine all text content into one string for regex processing\n",
    "        combined_text = ' '.join([element.get_text(strip=True) for element in soup_find])\n",
    "        \n",
    "        # Extracting data using regular expressions\n",
    "        address = re.search(address_pattern, combined_text)\n",
    "        town = re.search(town_pattern, combined_text)\n",
    "        telephone_1 = re.search(telephone_1_pattern, combined_text)\n",
    "        telephone_2 = re.search(telephone_2_pattern, combined_text)\n",
    "        email = re.search(email_pattern, combined_text)\n",
    "        website = re.search(website_pattern, combined_text)\n",
    "\n",
    "        # Extract product information from the span with ID 'lblProducts'\n",
    "        # product_info = soup.find_all(id=\"lblProducts\")\n",
    "        # products.append(product_info.get_text(separator=\", \", strip=True) if product_info else \"Not found\")\n",
    "\n",
    "        # Append extracted data to lists, or \"Not found\" if not found\n",
    "        addresses.append(address.group(1).strip() if address else \"Not found\")\n",
    "        towns.append(town.group(1).strip() if town else \"Not found\")\n",
    "        telephone_numbers_1.append(telephone_1.group(1).strip() if telephone_1 else \"Not found\")\n",
    "        telephone_numbers_2.append(telephone_2.group(1).strip() if telephone_2 else \"Not found\")\n",
    "        emails.append(email.group(1).strip() if email else \"Not found\")\n",
    "        websites.append(website.group(1).strip() if website else \"Not found\")\n",
    "    else:\n",
    "        print(f\"Failed to retrieve data for: {web} (Status code: {page.status_code})\")\n",
    "        addresses.append(None)\n",
    "        towns.append(None)\n",
    "        telephone_numbers_1.append(None)\n",
    "        telephone_numbers_2.append(None)\n",
    "        emails.append(None)\n",
    "        websites.append(None)\n",
    "        products.append(None)\n",
    "\n",
    "# Add the new data to the existing DataFrame\n",
    "df['Address'] = addresses\n",
    "df['City/Town'] = towns\n",
    "df['Telephone Number 1'] = telephone_numbers_1\n",
    "df['Telephone Number 2'] = telephone_numbers_2\n",
    "df['Email Address'] = emails\n",
    "df['Website'] = websites\n",
    "# df['Products'] = products  # Add the new column for product data\n",
    "\n",
    "# Save the updated DataFrame to a new CSV\n",
    "df.to_csv(\"updated_special_needs_schools_data.csv\", index=False)\n",
    "\n",
    "print(\"Data scraping and saving to CSV completed successfully!\")\n"
   ]
  },
  {
   "cell_type": "code",
   "execution_count": 47,
   "id": "fee1ce3a-5367-470e-9e57-6972d32164ec",
   "metadata": {},
   "outputs": [
    {
     "name": "stdout",
     "output_type": "stream",
     "text": [
      "(20, 10)\n"
     ]
    }
   ],
   "source": [
    "df.head()\n",
    "print(df.shape)"
   ]
  },
  {
   "cell_type": "code",
   "execution_count": 48,
   "id": "8ffeb6ad-1bd0-4747-831a-b5ccfeffcece",
   "metadata": {},
   "outputs": [
    {
     "data": {
      "text/plain": [
       "Series([], Name: count, dtype: int64)"
      ]
     },
     "execution_count": 48,
     "metadata": {},
     "output_type": "execute_result"
    }
   ],
   "source": [
    "df.value_counts()"
   ]
  },
  {
   "cell_type": "code",
   "execution_count": 49,
   "id": "2e8721f3-b19c-4555-8c7d-48dc9ae851cf",
   "metadata": {},
   "outputs": [
    {
     "data": {
      "text/plain": [
       "0"
      ]
     },
     "execution_count": 49,
     "metadata": {},
     "output_type": "execute_result"
    }
   ],
   "source": [
    "duplicates=df.duplicated()\n",
    "duplicates.sum()"
   ]
  },
  {
   "cell_type": "code",
   "execution_count": 50,
   "id": "a76f44bb-5618-40c5-b05b-1e964ab0f7d2",
   "metadata": {},
   "outputs": [],
   "source": [
    "if duplicates.any():\n",
    "    print(\"Duplicated rows:\")\n",
    "    print(df[duplicates])"
   ]
  },
  {
   "cell_type": "code",
   "execution_count": 51,
   "id": "8b438e43-ff5a-44bb-9a8f-0b9f298f0273",
   "metadata": {},
   "outputs": [],
   "source": [
    "df_cleaned=df.drop_duplicates()"
   ]
  },
  {
   "cell_type": "code",
   "execution_count": 52,
   "id": "a4ac8593-c4d4-4f82-8d25-1e175032fd56",
   "metadata": {},
   "outputs": [],
   "source": [
    "df_cleaned.to_csv(\"cleaned_special_needs_schools_data.csv\",index=False)\n"
   ]
  },
  {
   "cell_type": "code",
   "execution_count": 53,
   "id": "14bd3819-7959-45b1-8a7a-0a56126fa643",
   "metadata": {},
   "outputs": [
    {
     "data": {
      "text/plain": [
       "(20, 10)"
      ]
     },
     "execution_count": 53,
     "metadata": {},
     "output_type": "execute_result"
    }
   ],
   "source": [
    "df_cleaned.shape"
   ]
  },
  {
   "cell_type": "code",
   "execution_count": 45,
   "id": "66ac8311-361d-4e8d-9a57-d04b6ba37fbf",
   "metadata": {},
   "outputs": [
    {
     "data": {
      "text/plain": [
       "Email\n",
       "mssph014@gmail.com                     1\n",
       "tumutumuschdeaf@yahoo.com              1\n",
       "kttid2007@yahoo.com                    1\n",
       "ienfo@deafchildrensociety-kenya.org    1\n",
       "st.francis@yahoo.com                   1\n",
       "highschoolucy@gmail.com                1\n",
       "kblind@keib.or.ke                      1\n",
       "kco@sightsavers.or.ke                  1\n",
       "Name: count, dtype: int64"
      ]
     },
     "execution_count": 45,
     "metadata": {},
     "output_type": "execute_result"
    }
   ],
   "source": [
    "df[\"Email\"].value_counts()"
   ]
  },
  {
   "cell_type": "code",
   "execution_count": null,
   "id": "77c6be5e-6dd2-4492-bde6-85454f069eaf",
   "metadata": {},
   "outputs": [],
   "source": [
    "url2=[\n",
    "    \"https://www.kenyabizlist.com/category/special-needs-schools?start=30\"\n",
    "]\n",
    "pattern=r'<a href=\"(?P<website>https://www.kenyabizlist.com/business/\\d+[-\\w]+)\">.*?<b>(?P<name>.*?)</b></a>.*?P\\.O\\. Box (?P<location>[\\d\\s\\w,]+)'\n",
    "for URL in url2:\n",
    "    page=requests.get(URL)\n",
    "    soup=BeautifulSoup(page.text,\"html\")\n",
    "    soup_find = soup.find_all(class_=\"c-detail\")\n",
    "    for element in soup_find:\n",
    "        \n",
    "        element_str = str(element)\n",
    "        \n",
    "        matches = re.finditer(pattern, element_str, re.DOTALL)\n",
    "        \n",
    "        \n",
    "        # Extract and print each match\n",
    "        for match in matches:\n",
    "            website = match.group(\"website\")\n",
    "            name = match.group(\"name\").strip()\n",
    "            location = match.group(\"location\").strip()\n",
    "            \n",
    "            print(f\"Website: {website}\")\n",
    "            print(f\"Name: {name}\")\n",
    "            print(f\"Location (P.O. Box): {location}\")"
   ]
  },
  {
   "cell_type": "code",
   "execution_count": null,
   "id": "76662b8d-54da-477a-8801-0a05d28c6c76",
   "metadata": {},
   "outputs": [],
   "source": [
    "# soup_find=soup.find_all(class_=\"c-detail\")"
   ]
  },
  {
   "cell_type": "code",
   "execution_count": null,
   "id": "924f9988-9bdb-4ed6-bff9-f53085962290",
   "metadata": {},
   "outputs": [],
   "source": []
  },
  {
   "cell_type": "code",
   "execution_count": 25,
   "id": "3d70dd90-f46c-4051-a11b-4e935c73f8f6",
   "metadata": {},
   "outputs": [],
   "source": [
    "# product data pulling \n",
    "website=df[\"Website\"][5]"
   ]
  },
  {
   "cell_type": "code",
   "execution_count": 26,
   "id": "1270e723-cc80-4cb4-9d72-e63013d6bfd9",
   "metadata": {},
   "outputs": [
    {
     "data": {
      "text/plain": [
       "'https://www.kenyabizlist.com/business/2225-lisa-hola-school-for-the-deaf'"
      ]
     },
     "execution_count": 26,
     "metadata": {},
     "output_type": "execute_result"
    }
   ],
   "source": [
    "website"
   ]
  },
  {
   "cell_type": "code",
   "execution_count": null,
   "id": "4cb8b2e1-d0eb-4224-9030-d37a27a07845",
   "metadata": {},
   "outputs": [],
   "source": []
  },
  {
   "cell_type": "code",
   "execution_count": null,
   "id": "25b6f078-0caf-4d9d-8e07-051f0162633f",
   "metadata": {},
   "outputs": [],
   "source": []
  },
  {
   "cell_type": "code",
   "execution_count": null,
   "id": "94f5ca06-92d3-4afa-acf7-9d25a0bbad0d",
   "metadata": {},
   "outputs": [],
   "source": []
  },
  {
   "cell_type": "code",
   "execution_count": null,
   "id": "90cd11ce-0325-403f-a21e-c29cc4fd4d17",
   "metadata": {},
   "outputs": [],
   "source": []
  },
  {
   "cell_type": "code",
   "execution_count": null,
   "id": "ca087ac2-eec8-499e-a7cd-d33b8ee6c095",
   "metadata": {},
   "outputs": [],
   "source": []
  },
  {
   "cell_type": "code",
   "execution_count": null,
   "id": "14354067-a3dd-4532-8178-975d352e78d6",
   "metadata": {},
   "outputs": [],
   "source": []
  },
  {
   "cell_type": "code",
   "execution_count": null,
   "id": "c0d1aeb4-5276-43d7-bc38-ce3233fb2e80",
   "metadata": {},
   "outputs": [],
   "source": []
  },
  {
   "cell_type": "code",
   "execution_count": null,
   "id": "97ef6d7c-9566-4be0-912b-b3f398224d5f",
   "metadata": {},
   "outputs": [],
   "source": []
  },
  {
   "cell_type": "code",
   "execution_count": null,
   "id": "a13f1186-1e44-4e7d-b8e3-4281ddb5367e",
   "metadata": {},
   "outputs": [],
   "source": []
  },
  {
   "cell_type": "code",
   "execution_count": null,
   "id": "b11e13b1-ba3a-4916-a301-142759e83e84",
   "metadata": {},
   "outputs": [],
   "source": []
  },
  {
   "cell_type": "code",
   "execution_count": null,
   "id": "46a583f5-952e-481a-8dcd-4a287ac60d4d",
   "metadata": {},
   "outputs": [],
   "source": []
  },
  {
   "cell_type": "code",
   "execution_count": null,
   "id": "76184605-06f4-4f75-85b6-201427c0191d",
   "metadata": {},
   "outputs": [],
   "source": []
  }
 ],
 "metadata": {
  "kernelspec": {
   "display_name": "Python 3 (ipykernel)",
   "language": "python",
   "name": "python3"
  },
  "language_info": {
   "codemirror_mode": {
    "name": "ipython",
    "version": 3
   },
   "file_extension": ".py",
   "mimetype": "text/x-python",
   "name": "python",
   "nbconvert_exporter": "python",
   "pygments_lexer": "ipython3",
   "version": "3.11.7"
  }
 },
 "nbformat": 4,
 "nbformat_minor": 5
}
